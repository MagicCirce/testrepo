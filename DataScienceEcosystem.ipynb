{
 "cells": [
  {
   "cell_type": "markdown",
   "id": "6dee9f15-a4bf-4a29-a143-9053eca75cbe",
   "metadata": {},
   "source": [
    "## In this notebook, Data Science Tools and Ecosystem are summarized. "
   ]
  },
  {
   "cell_type": "markdown",
   "id": "a8b74103-fba1-4bae-9dd7-18988d01a2f8",
   "metadata": {},
   "source": [
    "### *Objectives: List popular languages for Data Science*\n",
    "### 1. SQL\n",
    "### 2. R\n",
    "### 3. Julia\n",
    "### 4. Java\n",
    "\n",
    "\n",
    "### Below are a few examples of evaluating arithmetic expressions in Python\n",
    "#### *This a simple arithmetic expression to mutiply then add integers*\n"
   ]
  },
  {
   "cell_type": "markdown",
   "id": "2799a14a-75be-4f86-b03f-ab02db74251b",
   "metadata": {},
   "source": [
    "x=(3*4)+5"
   ]
  },
  {
   "cell_type": "code",
   "execution_count": 12,
   "id": "bf73c121-4fd5-4996-bb60-91961141f691",
   "metadata": {},
   "outputs": [
    {
     "name": "stdout",
     "output_type": "stream",
     "text": [
      "17\n"
     ]
    }
   ],
   "source": [
    "print(x)"
   ]
  },
  {
   "cell_type": "markdown",
   "id": "118b39a5-c899-45ff-a19a-bef67ee7d64d",
   "metadata": {},
   "source": [
    "### *This will convert 200 minutes to hours by diving by 60*\n",
    "\n"
   ]
  },
  {
   "cell_type": "code",
   "execution_count": null,
   "id": "3f59b442-bdf0-4e15-aca9-f37626bfa352",
   "metadata": {},
   "outputs": [],
   "source": []
  },
  {
   "cell_type": "code",
   "execution_count": 16,
   "id": "f2982a7d-822b-4126-8fcc-7dde4daf2510",
   "metadata": {},
   "outputs": [
    {
     "name": "stdout",
     "output_type": "stream",
     "text": [
      "3.3333333333333335\n"
     ]
    }
   ],
   "source": [
    "x=200/60\n",
    "print (x)"
   ]
  },
  {
   "cell_type": "markdown",
   "id": "3d91cfb1-871a-4fda-a8eb-fcaac6f3d79e",
   "metadata": {},
   "source": [
    "## Author: *MagicCirce (alias Eleonora)*"
   ]
  },
  {
   "cell_type": "code",
   "execution_count": null,
   "id": "13cecbfc-4b5e-4ac7-a9e7-0e2cd46a5285",
   "metadata": {},
   "outputs": [],
   "source": []
  }
 ],
 "metadata": {
  "kernelspec": {
   "display_name": "Python 3 (ipykernel)",
   "language": "python",
   "name": "python3"
  },
  "language_info": {
   "codemirror_mode": {
    "name": "ipython",
    "version": 3
   },
   "file_extension": ".py",
   "mimetype": "text/x-python",
   "name": "python",
   "nbconvert_exporter": "python",
   "pygments_lexer": "ipython3",
   "version": "3.11.7"
  }
 },
 "nbformat": 4,
 "nbformat_minor": 5
}
